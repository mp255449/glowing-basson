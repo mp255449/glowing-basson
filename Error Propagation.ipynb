{
 "cells": [
  {
   "cell_type": "code",
   "execution_count": 14,
   "metadata": {},
   "outputs": [],
   "source": [
    "import numpy as np\n",
    "\n",
    "#Q=A+B or Q=A-B\n",
    "def rule3(dA,dB):\n",
    "    dQ = np.sqrt(dA**2+dB**2)\n",
    "    return dQ\n",
    "\n",
    "#Q=cA^mB^n where c, m, and n are constants\n",
    "def rule4(Q, m, dA, A, n, dB, B, o, dC, C):\n",
    "    dQ = (np.abs(Q))*np.sqrt((m*dA/A)**2+(n*dB/B)**2+(o*dC/C)**2)\n",
    "    return dQ"
   ]
  },
  {
   "cell_type": "code",
   "execution_count": 16,
   "metadata": {},
   "outputs": [
    {
     "name": "stdout",
     "output_type": "stream",
     "text": [
      "The value for α is 1.7228309558266145e-05 with an uncertainty of plus or minus 1.4748512344948645e-07 1/°C\n"
     ]
    }
   ],
   "source": [
    "#Linear Expansion ((ΔL)=Lα(ΔT)) solved for α\n",
    "def alpha(dL, dT, L):\n",
    "    alpha = dL/(L*dT)\n",
    "    return alpha\n",
    "\n",
    "L = 1.05 #m\n",
    "δL = 1 #mm\n",
    "ΔL = 1.25 #mm\n",
    "δΔL = 0.01 #mm\n",
    "Tinitial = 23.4 #°C\n",
    "Tfinal = 92.5 #°C\n",
    "δTinitial = 0.3 #°C\n",
    "δTfinal = 0.1 #°C\n",
    "\n",
    "α = alpha(.00125, 1.05, (92.5-23.4))\n",
    "δα = rule4(α, 1, .00001, .00125, -1, .001, 1.05, -1, (.1-.3), (92.5-23.4))\n",
    "print('The value for α is', α, 'with an uncertainty of plus or minus', δα, '1/°C')"
   ]
  },
  {
   "cell_type": "code",
   "execution_count": null,
   "metadata": {},
   "outputs": [],
   "source": []
  }
 ],
 "metadata": {
  "kernelspec": {
   "display_name": "Python 3",
   "language": "python",
   "name": "python3"
  },
  "language_info": {
   "codemirror_mode": {
    "name": "ipython",
    "version": 3
   },
   "file_extension": ".py",
   "mimetype": "text/x-python",
   "name": "python",
   "nbconvert_exporter": "python",
   "pygments_lexer": "ipython3",
   "version": "3.7.3"
  }
 },
 "nbformat": 4,
 "nbformat_minor": 2
}
