{
 "cells": [
  {
   "cell_type": "code",
   "execution_count": 32,
   "metadata": {},
   "outputs": [
    {
     "name": "stdout",
     "output_type": "stream",
     "text": [
      "8237.605003562836\n"
     ]
    }
   ],
   "source": [
    "#Murphy Polsak ID: 790750022\n",
    "import numpy as np\n",
    "\n",
    "θ = [0, 30, 60, 90, 120, 150, 180, 210, 240, 270, 300, 330]\n",
    "θ = [i*((np.pi)/180) for i in θ]\n",
    "radius = [70, 52, 38, 22, 24, 37, 49, 52, 69, 75, 84, 74]\n",
    "\n",
    "def F(x):\n",
    "    func = (1/2)*(radius[x])**2\n",
    "    return func\n",
    "\n",
    "def Simp(a, b, n, radius, func):\n",
    "    dθ = (b-a)/n\n",
    "    if (n % 2) != 0:\n",
    "        return 'n must be an even number and non-zero'\n",
    "    else:\n",
    "        sum = (func(0) + func(-1))\n",
    "        for i in range(1, len(radius) - 1):\n",
    "            if (i % 2) != 0:\n",
    "                sum = sum + (4*func(i))\n",
    "            elif (i % 2) == 0:\n",
    "                sum = sum + (2*func(i))\n",
    "        return sum*(dθ/3)\n",
    "    \n",
    "print(Simp(0, 2*(np.pi), 12, radius, F))"
   ]
  },
  {
   "cell_type": "code",
   "execution_count": null,
   "metadata": {},
   "outputs": [],
   "source": []
  }
 ],
 "metadata": {
  "kernelspec": {
   "display_name": "Python 3",
   "language": "python",
   "name": "python3"
  },
  "language_info": {
   "codemirror_mode": {
    "name": "ipython",
    "version": 3
   },
   "file_extension": ".py",
   "mimetype": "text/x-python",
   "name": "python",
   "nbconvert_exporter": "python",
   "pygments_lexer": "ipython3",
   "version": "3.7.3"
  }
 },
 "nbformat": 4,
 "nbformat_minor": 2
}
