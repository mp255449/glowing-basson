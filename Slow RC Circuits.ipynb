{
 "cells": [
  {
   "cell_type": "code",
   "execution_count": 49,
   "metadata": {},
   "outputs": [],
   "source": [
    "import numpy as np\n",
    "import matplotlib.pyplot as plt\n",
    "import sympy\n",
    "\n",
    "def rule4(Q, A, errA, expA, B, errB, expB):\n",
    "    \"\"\"\n",
    "    Q: The function that calculates the value that needs it's error determined.\n",
    "    A: The function that calculates the value for A\n",
    "    errA: The error in quantity A\n",
    "    expA: The power (exponent) of quantity A\n",
    "    ...and so on and so forth.\n",
    "    \"\"\"\n",
    "    errQ = np.abs(Q) * np.sqrt((expA*(errA/A))**2+(expB*(errB/B))**2)\n",
    "    return errQ"
   ]
  },
  {
   "cell_type": "markdown",
   "metadata": {},
   "source": [
    "Experiment 1 - Plotting charging and discharging curves\n",
    "\n",
    "In this experiment you will collect data which you will use to create two graphs, one displaying the charging behaviorof the capacitor and the other displaying the discharging behavior.\n",
    "\n",
    "\n",
    "1.  Set up the circuit shown in Figure 3 using the 47μF capacitor and the 510 kΩ resistor.  It will be easier to construct the circuit without the voltmeters attached.  After it is constructed, then add the voltmeters.  You should have your instructor check your circuit to make sure it is correctly connected.\n",
    "\n",
    "\n",
    "2.  Before turning on the power supply, set the switch to the discharging position.  Turn the power supply on and set it to 12 V.  (You may need to use a voltmeter connected to the terminals of the power supply to determine this.)\n",
    "\n",
    "\n",
    "3.  Flip the switch so that it is in the charging position.  Record the voltage $V$ across the capacitor at ten second intervals for two minutes.  **NOTE: you may think of a clever way to use your cell phone’s camera to help take your data.\n",
    "\n",
    "\n",
    "4.  Starting  with  a  BLANK  Jupyter  Notebook,  create  a  plot  of $V$ vs. $t$.    You  can  use  Matplotlib  to  do  asimple  plot  without  fitting  a  line  to  it  in  just  a  few  lines  of  code.   You  can  find  out  how  to  do  this  on http://matplotlib.org/tutorials/introductory/pyplot.html or use this as a starting point:"
   ]
  },
  {
   "cell_type": "code",
   "execution_count": 50,
   "metadata": {},
   "outputs": [
    {
     "data": {
      "image/png": "[encoded data removed]",
      "text/plain": [
       "<Figure size 432x288 with 1 Axes>"
      ]
     },
     "metadata": {
      "needs_background": "light"
     },
     "output_type": "display_data"
    }
   ],
   "source": [
    "V = np.array([0.086,3.696,6.079,7.83,8.93,9.71,10.25,10.62,10.87,11.05,11.17,11.25,11.31]) # Volts\n",
    "t = np.array([0,10,20,30,40,50,60,70,80,90,100,110,120]) # Seconds\n",
    "\n",
    "fig, charging = plt.subplots()\n",
    "charging.set(xlabel='Time (s)', ylabel='Voltage (V)',title='Charging Curve')\n",
    "charging.grid()\n",
    "charging.plot(t,V)\n",
    "#fig.savefig(\"charging_curve.png\")\n",
    "plt.show()"
   ]
  },
  {
   "cell_type": "code",
   "execution_count": 51,
   "metadata": {},
   "outputs": [
    {
     "data": {
      "image/png": "[encoded data removed]",
      "text/plain": [
       "<Figure size 432x288 with 1 Axes>"
      ]
     },
     "metadata": {
      "needs_background": "light"
     },
     "output_type": "display_data"
    }
   ],
   "source": [
    "V = np.array([11.46,8.01,5.58,3.819,2.636,1.873,1.297,.922,.697,.463,.332,.240,.177])# Volts\n",
    "t = np.array([0,10,20,30,40,50,60,70,80,90,100,110,120]) # Seconds\n",
    "\n",
    "fig, dcharging = plt.subplots()\n",
    "dcharging.set(xlabel='Time (s)', ylabel='Voltage (V)',title='Charging Curve')\n",
    "dcharging.grid()\n",
    "dcharging.plot(t,V)\n",
    "#fig.savefig(\"discharging_curve.png\")\n",
    "plt.show()"
   ]
  },
  {
   "cell_type": "markdown",
   "metadata": {},
   "source": [
    "Experiment 2 - Measuring time constant for charging and discharging\n",
    "\n",
    "In this experiment you will determine the time constant of your RC circuit based on time measurements when the capacitor is charging and when it is discharging.  You will be using the same circuit from Experiment 1, and you will need the capacitor to be fully charged before you can proceed. Once the capacitor is fully charged, record the voltage $V_0$.  This is the maximum voltage across the capacitor.  We can calculate the expected voltage across the capacitor after one time constant has elapsed for when it is discharging and for when it is charging as the following:\n",
    "\n",
    "$V_d = (0.368)V_0$\n",
    "\n",
    "$V_c = (0.632)V_0$\n",
    "\n",
    "Record the elapsed time while you alternate between trials of discharging and charging the capacitor.\n",
    "\n",
    "\n",
    "•Discharging:  the voltmeter starts at $V_0$.  When it reaches $V_d$ record the elapsed time while discharging $t_d$.\n",
    "\n",
    "\n",
    "•Charging:  the voltmeter starts at 0 V.  When it reaches $V_c$ record the elapsed time while charging $t_c$. \n",
    "\n",
    "\n",
    "\n",
    "After recording the elapsed time for a discharging trial, you can quickly set the voltage across the capacitor to 0 V by connecting the ends of the capacitor with a short wire.  This will get you ready for a charging trial (be sure to remove the short wire).  After recording the elapsed time for a charging trial, you will necessarily have to wait until the capacitor finishes charging to its maximum value before you can do the next discharging trial.  Perform 10 trials for both charging and discharging the capacitor."
   ]
  },
  {
   "cell_type": "code",
   "execution_count": 52,
   "metadata": {},
   "outputs": [
    {
     "name": "stdout",
     "output_type": "stream",
     "text": [
      "Vo = 12.07 volts\n",
      "Vd = 4.442 volts\n",
      "Vc = 7.628 volts\n",
      "Discharge Times: [26.64 26.77 26.96 27.27 26.92 26.68 26.97 26.41 26.67 26.86] seconds\n",
      "Charge Times: [29.49 29.26 29.77 28.94 29.47 29.58 29.52 29.55 29.54 29.34] seconds\n",
      "\n",
      "Avg. Discharge Time: 26.82 plus or minus 0.071 seconds.\n",
      "Avg. Charge Time: 29.45 plus or minus 0.067 seconds.\n"
     ]
    }
   ],
   "source": [
    "V0 = 12.07 # Volts\n",
    "Vd = np.round(0.368*V0,3)\n",
    "Vc = np.round(0.632*V0,3)\n",
    "\n",
    "dcharge_time = np.array([26.64,26.77,26.96,27.27,26.92,26.68,26.97,26.41,26.67,26.86]) # Seconds\n",
    "charge_time  = np.array([29.49,29.26,29.77,28.94,29.47,29.58,29.52,29.55,29.54,29.34]) # Seconds\n",
    "\n",
    "tau_disc = np.mean(dcharge_time)\n",
    "err_tau_disc = np.std(dcharge_time)/(10**(1/2)) # Seconds\n",
    "\n",
    "tau_char = np.mean(charge_time)\n",
    "err_tau_char = np.std(charge_time)/(10**(1/2)) # Seconds\n",
    "\n",
    "print(\"Vo =\",V0,\"volts\")\n",
    "print(\"Vd =\",Vd,\"volts\")\n",
    "print(\"Vc =\",Vc,\"volts\")\n",
    "print(\"Discharge Times:\",dcharge_time,\"seconds\")\n",
    "print(\"Charge Times:\",charge_time,\"seconds\\n\")\n",
    "\n",
    "print(\"Avg. Discharge Time:\",np.round(tau_disc,2),\"plus or minus\",np.round(err_tau_disc,3),\"seconds.\")\n",
    "print(\"Avg. Charge Time:\",np.round(tau_char,2),\"plus or minus\",np.round(err_tau_char,3),\"seconds.\")"
   ]
  },
  {
   "cell_type": "markdown",
   "metadata": {},
   "source": [
    "Experiment 3 - Direct Measurement of R and C to find time constant RC\n",
    "\n",
    "\n",
    "Directly measure the values and uncertainties for the resistance and capacitance of the resistor and capacitor, then calculate the time constant τ based on those values.  The uncertainty of the time constant δτ can be found from one of our error propagation rules."
   ]
  },
  {
   "cell_type": "code",
   "execution_count": 53,
   "metadata": {},
   "outputs": [
    {
     "name": "stdout",
     "output_type": "stream",
     "text": [
      "τ= 27.03 plus or minus 0.05 seconds.\n"
     ]
    }
   ],
   "source": [
    "R = 502.5e3 # Ohms\n",
    "errR = .1e3\n",
    "\n",
    "C = 53.8e-6 # Farads\n",
    "errC = .1e-6\n",
    "\n",
    "tau = R*C\n",
    "err_tau = rule4(tau,R,errR,1,C,errC,1)\n",
    "\n",
    "print(\"τ=\",np.round(tau,2),\"plus or minus\",np.round(err_tau,2),\"seconds.\")"
   ]
  },
  {
   "cell_type": "code",
   "execution_count": null,
   "metadata": {},
   "outputs": [],
   "source": []
  }
 ],
 "metadata": {
  "kernelspec": {
   "display_name": "Python 3",
   "language": "python",
   "name": "python3"
  },
  "language_info": {
   "codemirror_mode": {
    "name": "ipython",
    "version": 3
   },
   "file_extension": ".py",
   "mimetype": "text/x-python",
   "name": "python",
   "nbconvert_exporter": "python",
   "pygments_lexer": "ipython3",
   "version": "3.7.4"
  }
 },
 "nbformat": 4,
 "nbformat_minor": 2
}
